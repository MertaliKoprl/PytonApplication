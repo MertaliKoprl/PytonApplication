{
  "nbformat": 4,
  "nbformat_minor": 0,
  "metadata": {
    "kernelspec": {
      "display_name": "Python 3",
      "language": "python",
      "name": "python3"
    },
    "language_info": {
      "codemirror_mode": {
        "name": "ipython",
        "version": 3
      },
      "file_extension": ".py",
      "mimetype": "text/x-python",
      "name": "python",
      "nbconvert_exporter": "python",
      "pygments_lexer": "ipython3",
      "version": "3.8.3"
    },
    "colab": {
      "name": "Lecture_13_Exercises_-_Questions.ipynb",
      "provenance": [],
      "collapsed_sections": [],
      "toc_visible": true
    }
  },
  "cells": [
    {
      "cell_type": "markdown",
      "metadata": {
        "id": "MsKJ81SboXyB"
      },
      "source": [
        "# COP3231 Lecture 12 & 13 Exercises"
      ]
    },
    {
      "cell_type": "markdown",
      "metadata": {
        "id": "3lKmld5toXyE"
      },
      "source": [
        "**Name**: Mertali\n",
        "\n",
        "**ID**:    "
      ]
    },
    {
      "cell_type": "markdown",
      "metadata": {
        "id": "QhDANeUNoXyF"
      },
      "source": [
        "# Building deep learning models with keras\n"
      ]
    },
    {
      "cell_type": "markdown",
      "metadata": {
        "id": "yiuPu5MnoXyG"
      },
      "source": [
        "## 1. Importing Data"
      ]
    },
    {
      "cell_type": "code",
      "metadata": {
        "id": "Mk-8qvLroXyG"
      },
      "source": [
        "import pandas as pd"
      ],
      "execution_count": 10,
      "outputs": []
    },
    {
      "cell_type": "code",
      "metadata": {
        "colab": {
          "base_uri": "https://localhost:8080/",
          "height": 407
        },
        "id": "YKkaXW-0oXyH",
        "outputId": "d6db3841-4667-4072-a56e-967279acafab"
      },
      "source": [
        "df = pd.read_csv('/content/Data_Tables/hourly_wages.csv')\n",
        "df"
      ],
      "execution_count": 34,
      "outputs": [
        {
          "output_type": "execute_result",
          "data": {
            "text/html": [
              "<div>\n",
              "<style scoped>\n",
              "    .dataframe tbody tr th:only-of-type {\n",
              "        vertical-align: middle;\n",
              "    }\n",
              "\n",
              "    .dataframe tbody tr th {\n",
              "        vertical-align: top;\n",
              "    }\n",
              "\n",
              "    .dataframe thead th {\n",
              "        text-align: right;\n",
              "    }\n",
              "</style>\n",
              "<table border=\"1\" class=\"dataframe\">\n",
              "  <thead>\n",
              "    <tr style=\"text-align: right;\">\n",
              "      <th></th>\n",
              "      <th>wage_per_hour</th>\n",
              "      <th>union</th>\n",
              "      <th>education_yrs</th>\n",
              "      <th>experience_yrs</th>\n",
              "      <th>age</th>\n",
              "      <th>female</th>\n",
              "      <th>marr</th>\n",
              "      <th>south</th>\n",
              "      <th>manufacturing</th>\n",
              "      <th>construction</th>\n",
              "    </tr>\n",
              "  </thead>\n",
              "  <tbody>\n",
              "    <tr>\n",
              "      <th>0</th>\n",
              "      <td>5.10</td>\n",
              "      <td>0</td>\n",
              "      <td>8</td>\n",
              "      <td>21</td>\n",
              "      <td>35</td>\n",
              "      <td>1</td>\n",
              "      <td>1</td>\n",
              "      <td>0</td>\n",
              "      <td>1</td>\n",
              "      <td>0</td>\n",
              "    </tr>\n",
              "    <tr>\n",
              "      <th>1</th>\n",
              "      <td>4.95</td>\n",
              "      <td>0</td>\n",
              "      <td>9</td>\n",
              "      <td>42</td>\n",
              "      <td>57</td>\n",
              "      <td>1</td>\n",
              "      <td>1</td>\n",
              "      <td>0</td>\n",
              "      <td>1</td>\n",
              "      <td>0</td>\n",
              "    </tr>\n",
              "    <tr>\n",
              "      <th>2</th>\n",
              "      <td>6.67</td>\n",
              "      <td>0</td>\n",
              "      <td>12</td>\n",
              "      <td>1</td>\n",
              "      <td>19</td>\n",
              "      <td>0</td>\n",
              "      <td>0</td>\n",
              "      <td>0</td>\n",
              "      <td>1</td>\n",
              "      <td>0</td>\n",
              "    </tr>\n",
              "    <tr>\n",
              "      <th>3</th>\n",
              "      <td>4.00</td>\n",
              "      <td>0</td>\n",
              "      <td>12</td>\n",
              "      <td>4</td>\n",
              "      <td>22</td>\n",
              "      <td>0</td>\n",
              "      <td>0</td>\n",
              "      <td>0</td>\n",
              "      <td>0</td>\n",
              "      <td>0</td>\n",
              "    </tr>\n",
              "    <tr>\n",
              "      <th>4</th>\n",
              "      <td>7.50</td>\n",
              "      <td>0</td>\n",
              "      <td>12</td>\n",
              "      <td>17</td>\n",
              "      <td>35</td>\n",
              "      <td>0</td>\n",
              "      <td>1</td>\n",
              "      <td>0</td>\n",
              "      <td>0</td>\n",
              "      <td>0</td>\n",
              "    </tr>\n",
              "    <tr>\n",
              "      <th>...</th>\n",
              "      <td>...</td>\n",
              "      <td>...</td>\n",
              "      <td>...</td>\n",
              "      <td>...</td>\n",
              "      <td>...</td>\n",
              "      <td>...</td>\n",
              "      <td>...</td>\n",
              "      <td>...</td>\n",
              "      <td>...</td>\n",
              "      <td>...</td>\n",
              "    </tr>\n",
              "    <tr>\n",
              "      <th>529</th>\n",
              "      <td>11.36</td>\n",
              "      <td>0</td>\n",
              "      <td>18</td>\n",
              "      <td>5</td>\n",
              "      <td>29</td>\n",
              "      <td>0</td>\n",
              "      <td>0</td>\n",
              "      <td>0</td>\n",
              "      <td>0</td>\n",
              "      <td>0</td>\n",
              "    </tr>\n",
              "    <tr>\n",
              "      <th>530</th>\n",
              "      <td>6.10</td>\n",
              "      <td>0</td>\n",
              "      <td>12</td>\n",
              "      <td>33</td>\n",
              "      <td>51</td>\n",
              "      <td>1</td>\n",
              "      <td>1</td>\n",
              "      <td>0</td>\n",
              "      <td>0</td>\n",
              "      <td>0</td>\n",
              "    </tr>\n",
              "    <tr>\n",
              "      <th>531</th>\n",
              "      <td>23.25</td>\n",
              "      <td>1</td>\n",
              "      <td>17</td>\n",
              "      <td>25</td>\n",
              "      <td>48</td>\n",
              "      <td>1</td>\n",
              "      <td>1</td>\n",
              "      <td>0</td>\n",
              "      <td>0</td>\n",
              "      <td>0</td>\n",
              "    </tr>\n",
              "    <tr>\n",
              "      <th>532</th>\n",
              "      <td>19.88</td>\n",
              "      <td>1</td>\n",
              "      <td>12</td>\n",
              "      <td>13</td>\n",
              "      <td>31</td>\n",
              "      <td>0</td>\n",
              "      <td>1</td>\n",
              "      <td>1</td>\n",
              "      <td>0</td>\n",
              "      <td>0</td>\n",
              "    </tr>\n",
              "    <tr>\n",
              "      <th>533</th>\n",
              "      <td>15.38</td>\n",
              "      <td>0</td>\n",
              "      <td>16</td>\n",
              "      <td>33</td>\n",
              "      <td>55</td>\n",
              "      <td>0</td>\n",
              "      <td>1</td>\n",
              "      <td>0</td>\n",
              "      <td>1</td>\n",
              "      <td>0</td>\n",
              "    </tr>\n",
              "  </tbody>\n",
              "</table>\n",
              "<p>534 rows × 10 columns</p>\n",
              "</div>"
            ],
            "text/plain": [
              "     wage_per_hour  union  education_yrs  ...  south  manufacturing  construction\n",
              "0             5.10      0              8  ...      0              1             0\n",
              "1             4.95      0              9  ...      0              1             0\n",
              "2             6.67      0             12  ...      0              1             0\n",
              "3             4.00      0             12  ...      0              0             0\n",
              "4             7.50      0             12  ...      0              0             0\n",
              "..             ...    ...            ...  ...    ...            ...           ...\n",
              "529          11.36      0             18  ...      0              0             0\n",
              "530           6.10      0             12  ...      0              0             0\n",
              "531          23.25      1             17  ...      0              0             0\n",
              "532          19.88      1             12  ...      1              0             0\n",
              "533          15.38      0             16  ...      0              1             0\n",
              "\n",
              "[534 rows x 10 columns]"
            ]
          },
          "metadata": {
            "tags": []
          },
          "execution_count": 34
        }
      ]
    },
    {
      "cell_type": "code",
      "metadata": {
        "id": "Cb1wiOaPoXyH"
      },
      "source": [
        "predictors = df.drop('wage_per_hour', axis = 1).values\n",
        "target = df['wage_per_hour'].values"
      ],
      "execution_count": 19,
      "outputs": []
    },
    {
      "cell_type": "code",
      "metadata": {
        "colab": {
          "base_uri": "https://localhost:8080/"
        },
        "id": "C0TGx7wToXyI",
        "outputId": "1ef6c1b0-bd72-4ff0-e1f9-b77903f77b84"
      },
      "source": [
        "predictors"
      ],
      "execution_count": 20,
      "outputs": [
        {
          "output_type": "execute_result",
          "data": {
            "text/plain": [
              "array([[ 0,  8, 21, ...,  0,  1,  0],\n",
              "       [ 0,  9, 42, ...,  0,  1,  0],\n",
              "       [ 0, 12,  1, ...,  0,  1,  0],\n",
              "       ...,\n",
              "       [ 1, 17, 25, ...,  0,  0,  0],\n",
              "       [ 1, 12, 13, ...,  1,  0,  0],\n",
              "       [ 0, 16, 33, ...,  0,  1,  0]])"
            ]
          },
          "metadata": {
            "tags": []
          },
          "execution_count": 20
        }
      ]
    },
    {
      "cell_type": "code",
      "metadata": {
        "colab": {
          "base_uri": "https://localhost:8080/"
        },
        "id": "QmKtB-26oXyJ",
        "outputId": "bc43e2b9-a608-441c-e386-6d4a87398f23"
      },
      "source": [
        "\r\n",
        "predictors[1]"
      ],
      "execution_count": 44,
      "outputs": [
        {
          "output_type": "execute_result",
          "data": {
            "text/plain": [
              "array([ 0,  9, 42, 57,  1,  1,  0,  1,  0])"
            ]
          },
          "metadata": {
            "tags": []
          },
          "execution_count": 44
        }
      ]
    },
    {
      "cell_type": "markdown",
      "metadata": {
        "id": "JH6JXYRAoXyJ"
      },
      "source": [
        "## 2. Specifying a model"
      ]
    },
    {
      "cell_type": "markdown",
      "metadata": {
        "id": "-99OZxQHoXyK"
      },
      "source": [
        "- Store the number of columns in the predictors data to n_cols. This has been done for you.\n",
        "- Start by creating a Sequential model called model.\n",
        "- Use the .add() method on model to add a Dense layer.\n",
        "- Add 50 units, specify activation='relu', and the input_shape parameter to be the tuple (n_cols,) which means it has n_cols items in each row of data, and any number of rows of data are acceptable as inputs.\n",
        "- Add another Dense layer. This should have 32 units and a 'relu' activation.\n",
        "- Finally, add an output layer, which is a Dense layer with a single node. Don't use any activation function here."
      ]
    },
    {
      "cell_type": "code",
      "metadata": {
        "id": "qBbnqqhgoXyK"
      },
      "source": [
        "# Import necessary modules\n",
        "import keras\n",
        "from keras.layers import Dense\n",
        "from keras.models import Sequential\n",
        "\n",
        "# Save the number of columns in predictors: n_cols\n",
        "n_cols = predictors.shape[1]\n",
        "\n",
        "# Set up the model: model\n",
        "model = Sequential()\n",
        "\n",
        "# Add the first layer\n",
        "model.add(Dense(50, activation=\"relu\",input_shape=(n_cols,)))\n",
        "\n",
        "# Add the second layer\n",
        "model.add(Dense(32, activation=\"relu\"))\n",
        "\n",
        "# Add the output layer\n",
        "model.add(Dense(1))\n"
      ],
      "execution_count": 39,
      "outputs": []
    },
    {
      "cell_type": "markdown",
      "metadata": {
        "id": "A2h7-YcvoXyK"
      },
      "source": [
        "## 3. Compiling the Model"
      ]
    },
    {
      "cell_type": "markdown",
      "metadata": {
        "id": "Xip_FEcZoXyK"
      },
      "source": [
        "- Compile the model using model.compile(). Your optimizer should be 'adam' and the loss should be 'mean_squared_error'."
      ]
    },
    {
      "cell_type": "code",
      "metadata": {
        "colab": {
          "base_uri": "https://localhost:8080/"
        },
        "id": "kbbgzJ9loXyL",
        "outputId": "13c1ec8b-b7a3-4f3e-f8e3-2f1a1ec50642"
      },
      "source": [
        "# Compile the model\n",
        "model.compile(optimizer = 'adam', loss = 'mean_squared_error')\n",
        "\n",
        "# Verify that model contains information from compiling\n",
        "print(\"Loss function: \" + model.loss)"
      ],
      "execution_count": 42,
      "outputs": [
        {
          "output_type": "stream",
          "text": [
            "Loss function: mean_squared_error\n"
          ],
          "name": "stdout"
        }
      ]
    },
    {
      "cell_type": "code",
      "metadata": {
        "colab": {
          "base_uri": "https://localhost:8080/"
        },
        "id": "GuxW1ns227xq",
        "outputId": "de47cee1-37f9-4a22-e861-7436c2b09cda"
      },
      "source": [
        "# Compile the model\r\n",
        "model.compile(optimizer = 'adam', loss = 'mean_squared_error')\r\n",
        "\r\n",
        "# Verify that model contains information from compiling\r\n",
        "print(\"Loss function: \" + model.loss)"
      ],
      "execution_count": 48,
      "outputs": [
        {
          "output_type": "stream",
          "text": [
            "Loss function: mean_squared_error\n"
          ],
          "name": "stdout"
        }
      ]
    },
    {
      "cell_type": "markdown",
      "metadata": {
        "id": "kffXT7RpoXyL"
      },
      "source": [
        "## 4. Fitting the Model"
      ]
    },
    {
      "cell_type": "markdown",
      "metadata": {
        "id": "9uqvEUCxoXyM"
      },
      "source": [
        "- Fit the model. Remember that the first argument is the predictive features (predictors), and the data to be predicted (target) is the second argument."
      ]
    },
    {
      "cell_type": "code",
      "metadata": {
        "colab": {
          "base_uri": "https://localhost:8080/"
        },
        "id": "LYXyyOZWoXyM",
        "outputId": "431d24cc-efca-4cfb-e823-f4f807fc8576"
      },
      "source": [
        "# Fit the model\n",
        "model.fit(predictors, target)"
      ],
      "execution_count": 46,
      "outputs": [
        {
          "output_type": "stream",
          "text": [
            "17/17 [==============================] - 0s 1ms/step - loss: 24.8319\n"
          ],
          "name": "stdout"
        },
        {
          "output_type": "execute_result",
          "data": {
            "text/plain": [
              "<tensorflow.python.keras.callbacks.History at 0x7f0d2a9a5630>"
            ]
          },
          "metadata": {
            "tags": []
          },
          "execution_count": 46
        }
      ]
    },
    {
      "cell_type": "code",
      "metadata": {
        "colab": {
          "base_uri": "https://localhost:8080/"
        },
        "id": "9YGMN4ZmoXyM",
        "outputId": "ce1c2cc1-2513-4b2b-d3ff-466b91381bab"
      },
      "source": [
        "# Compile the model\n",
        "model.compile(optimizer='adam', loss='mean_squared_error')\n",
        "\n",
        "# Fit the model\n",
        "model.fit(predictors,target)"
      ],
      "execution_count": 49,
      "outputs": [
        {
          "output_type": "stream",
          "text": [
            "17/17 [==============================] - 0s 1ms/step - loss: 27.5550\n"
          ],
          "name": "stdout"
        },
        {
          "output_type": "execute_result",
          "data": {
            "text/plain": [
              "<tensorflow.python.keras.callbacks.History at 0x7f0d2a98e128>"
            ]
          },
          "metadata": {
            "tags": []
          },
          "execution_count": 49
        }
      ]
    },
    {
      "cell_type": "markdown",
      "metadata": {
        "id": "U81r6XT3oXyN"
      },
      "source": [
        "## 5. Single Prediction"
      ]
    },
    {
      "cell_type": "markdown",
      "metadata": {
        "id": "fZr9zsZboXyN"
      },
      "source": [
        "- Create an array and make a single prediction with .predict() method."
      ]
    },
    {
      "cell_type": "code",
      "metadata": {
        "colab": {
          "base_uri": "https://localhost:8080/"
        },
        "id": "TwMjb-NQoXyN",
        "outputId": "9f1c8016-69ac-4661-d6b8-106b49634b30"
      },
      "source": [
        "df.columns"
      ],
      "execution_count": 50,
      "outputs": [
        {
          "output_type": "execute_result",
          "data": {
            "text/plain": [
              "Index(['wage_per_hour', 'union', 'education_yrs', 'experience_yrs', 'age',\n",
              "       'female', 'marr', 'south', 'manufacturing', 'construction'],\n",
              "      dtype='object')"
            ]
          },
          "metadata": {
            "tags": []
          },
          "execution_count": 50
        }
      ]
    },
    {
      "cell_type": "code",
      "metadata": {
        "colab": {
          "base_uri": "https://localhost:8080/"
        },
        "id": "-2M5Ca65oXyN",
        "outputId": "abacd4de-dcf1-47d8-de4f-56dc0fef09dd"
      },
      "source": [
        "predictors[0]"
      ],
      "execution_count": 51,
      "outputs": [
        {
          "output_type": "execute_result",
          "data": {
            "text/plain": [
              "array([ 0,  8, 21, 35,  1,  1,  0,  1,  0])"
            ]
          },
          "metadata": {
            "tags": []
          },
          "execution_count": 51
        }
      ]
    },
    {
      "cell_type": "code",
      "metadata": {
        "id": "3XAO7RTEoXyO"
      },
      "source": [
        "import numpy as np\r\n",
        "\r\n",
        "prediction_array = np.array([[ 0,  6, 2,22, 1,  0,  0,  1,  1]])"
      ],
      "execution_count": 55,
      "outputs": []
    },
    {
      "cell_type": "code",
      "metadata": {
        "colab": {
          "base_uri": "https://localhost:8080/"
        },
        "id": "JqHmagVGoXyO",
        "outputId": "2cd0dbb7-5cdd-4965-c66a-1aad28c7582d"
      },
      "source": [
        "x=(model.predict(prediction_array))[0]\r\n",
        "(x*8*20)"
      ],
      "execution_count": 61,
      "outputs": [
        {
          "output_type": "execute_result",
          "data": {
            "text/plain": [
              "array([1042.6194], dtype=float32)"
            ]
          },
          "metadata": {
            "tags": []
          },
          "execution_count": 61
        }
      ]
    }
  ]
}